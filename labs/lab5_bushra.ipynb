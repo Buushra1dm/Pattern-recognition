{
  "metadata": {
    "kernelspec": {
      "language": "python",
      "display_name": "Python 3",
      "name": "python3"
    },
    "language_info": {
      "name": "python",
      "version": "3.10.10",
      "mimetype": "text/x-python",
      "codemirror_mode": {
        "name": "ipython",
        "version": 3
      },
      "pygments_lexer": "ipython3",
      "nbconvert_exporter": "python",
      "file_extension": ".py"
    },
    "colab": {
      "provenance": []
    }
  },
  "nbformat_minor": 0,
  "nbformat": 4,
  "cells": [
    {
      "cell_type": "markdown",
      "source": [
        "# **part 1**"
      ],
      "metadata": {
        "id": "AoCB0jDUpLu_"
      }
    },
    {
      "cell_type": "code",
      "source": [
        "#1.\tImport the necessary libraries\n",
        "from sklearn.datasets import fetch_20newsgroups\n",
        "from sklearn.feature_extraction.text import CountVectorizer\n",
        "from sklearn.naive_bayes import MultinomialNB\n",
        "from sklearn.metrics import accuracy_score"
      ],
      "metadata": {
        "execution": {
          "iopub.status.busy": "2023-05-15T08:57:33.962027Z",
          "iopub.execute_input": "2023-05-15T08:57:33.962533Z",
          "iopub.status.idle": "2023-05-15T08:57:33.969262Z",
          "shell.execute_reply.started": "2023-05-15T08:57:33.962497Z",
          "shell.execute_reply": "2023-05-15T08:57:33.968130Z"
        },
        "trusted": true,
        "id": "jTgchZY8pLvB"
      },
      "execution_count": 1,
      "outputs": []
    },
    {
      "cell_type": "code",
      "source": [
        "#2. Load the \"20 Newsgroups\" dataset using the fetch_20newsgroups function and specify the categories to be used for training and testing.\n",
        "categories = ['alt.atheism', 'comp.graphics', 'comp.os.ms-windows.misc', 'comp.sys.ibm.pc.hardware', 'comp.sys.mac.hardware', 'comp.windows.x', 'misc.forsale', 'rec.autos', 'rec.motorcycles', 'rec.sport.baseball', 'rec.sport.hockey', 'sci.crypt', 'sci.electronics', 'sci.med', 'sci.space', 'soc.religion.christian', 'talk.politics.guns', 'talk.politics.mideast', 'talk.politics.misc', 'talk.religion.misc']\n",
        "\n",
        "newsgroups_train = fetch_20newsgroups(subset='train', categories=categories)\n",
        "newsgroups_test = fetch_20newsgroups(subset='test', categories=categories)"
      ],
      "metadata": {
        "execution": {
          "iopub.status.busy": "2023-05-15T08:57:33.971306Z",
          "iopub.execute_input": "2023-05-15T08:57:33.971908Z",
          "iopub.status.idle": "2023-05-15T08:57:54.397750Z",
          "shell.execute_reply.started": "2023-05-15T08:57:33.971873Z",
          "shell.execute_reply": "2023-05-15T08:57:54.394207Z"
        },
        "trusted": true,
        "id": "Uz2nOXfapLvC"
      },
      "execution_count": 2,
      "outputs": []
    },
    {
      "cell_type": "code",
      "source": [
        "#3.\tConvert the text data into numerical features using the CountVectorizer class from Scikit-Learn.\n",
        "# Convert text data into numerical features\n",
        "vectorizer = CountVectorizer()\n",
        "X_train = vectorizer.fit_transform(newsgroups_train.data)\n",
        "X_test = vectorizer.transform(newsgroups_test.data)\n",
        "y_train = newsgroups_train.target\n",
        "y_test = newsgroups_test.target"
      ],
      "metadata": {
        "execution": {
          "iopub.status.busy": "2023-05-15T08:57:54.399082Z",
          "iopub.status.idle": "2023-05-15T08:57:54.400710Z",
          "shell.execute_reply.started": "2023-05-15T08:57:54.400267Z",
          "shell.execute_reply": "2023-05-15T08:57:54.400307Z"
        },
        "trusted": true,
        "id": "IwemtyQDpLvE"
      },
      "execution_count": 3,
      "outputs": []
    },
    {
      "cell_type": "code",
      "source": [
        "#4.\tTrain the Naive Bayes classifier on the training data using the MultinomialNB class from Scikit-Learn.\n",
        "model = MultinomialNB()\n",
        "model.fit(X_train, y_train)"
      ],
      "metadata": {
        "execution": {
          "iopub.status.busy": "2023-05-15T08:57:54.402148Z",
          "iopub.status.idle": "2023-05-15T08:57:54.402802Z",
          "shell.execute_reply.started": "2023-05-15T08:57:54.402503Z",
          "shell.execute_reply": "2023-05-15T08:57:54.402533Z"
        },
        "trusted": true,
        "colab": {
          "base_uri": "https://localhost:8080/",
          "height": 75
        },
        "id": "uhhQIVkQpLvF",
        "outputId": "cb83ce17-d1f0-47f8-b55b-9921bb68aec5"
      },
      "execution_count": 4,
      "outputs": [
        {
          "output_type": "execute_result",
          "data": {
            "text/plain": [
              "MultinomialNB()"
            ],
            "text/html": [
              "<style>#sk-container-id-1 {color: black;background-color: white;}#sk-container-id-1 pre{padding: 0;}#sk-container-id-1 div.sk-toggleable {background-color: white;}#sk-container-id-1 label.sk-toggleable__label {cursor: pointer;display: block;width: 100%;margin-bottom: 0;padding: 0.3em;box-sizing: border-box;text-align: center;}#sk-container-id-1 label.sk-toggleable__label-arrow:before {content: \"▸\";float: left;margin-right: 0.25em;color: #696969;}#sk-container-id-1 label.sk-toggleable__label-arrow:hover:before {color: black;}#sk-container-id-1 div.sk-estimator:hover label.sk-toggleable__label-arrow:before {color: black;}#sk-container-id-1 div.sk-toggleable__content {max-height: 0;max-width: 0;overflow: hidden;text-align: left;background-color: #f0f8ff;}#sk-container-id-1 div.sk-toggleable__content pre {margin: 0.2em;color: black;border-radius: 0.25em;background-color: #f0f8ff;}#sk-container-id-1 input.sk-toggleable__control:checked~div.sk-toggleable__content {max-height: 200px;max-width: 100%;overflow: auto;}#sk-container-id-1 input.sk-toggleable__control:checked~label.sk-toggleable__label-arrow:before {content: \"▾\";}#sk-container-id-1 div.sk-estimator input.sk-toggleable__control:checked~label.sk-toggleable__label {background-color: #d4ebff;}#sk-container-id-1 div.sk-label input.sk-toggleable__control:checked~label.sk-toggleable__label {background-color: #d4ebff;}#sk-container-id-1 input.sk-hidden--visually {border: 0;clip: rect(1px 1px 1px 1px);clip: rect(1px, 1px, 1px, 1px);height: 1px;margin: -1px;overflow: hidden;padding: 0;position: absolute;width: 1px;}#sk-container-id-1 div.sk-estimator {font-family: monospace;background-color: #f0f8ff;border: 1px dotted black;border-radius: 0.25em;box-sizing: border-box;margin-bottom: 0.5em;}#sk-container-id-1 div.sk-estimator:hover {background-color: #d4ebff;}#sk-container-id-1 div.sk-parallel-item::after {content: \"\";width: 100%;border-bottom: 1px solid gray;flex-grow: 1;}#sk-container-id-1 div.sk-label:hover label.sk-toggleable__label {background-color: #d4ebff;}#sk-container-id-1 div.sk-serial::before {content: \"\";position: absolute;border-left: 1px solid gray;box-sizing: border-box;top: 0;bottom: 0;left: 50%;z-index: 0;}#sk-container-id-1 div.sk-serial {display: flex;flex-direction: column;align-items: center;background-color: white;padding-right: 0.2em;padding-left: 0.2em;position: relative;}#sk-container-id-1 div.sk-item {position: relative;z-index: 1;}#sk-container-id-1 div.sk-parallel {display: flex;align-items: stretch;justify-content: center;background-color: white;position: relative;}#sk-container-id-1 div.sk-item::before, #sk-container-id-1 div.sk-parallel-item::before {content: \"\";position: absolute;border-left: 1px solid gray;box-sizing: border-box;top: 0;bottom: 0;left: 50%;z-index: -1;}#sk-container-id-1 div.sk-parallel-item {display: flex;flex-direction: column;z-index: 1;position: relative;background-color: white;}#sk-container-id-1 div.sk-parallel-item:first-child::after {align-self: flex-end;width: 50%;}#sk-container-id-1 div.sk-parallel-item:last-child::after {align-self: flex-start;width: 50%;}#sk-container-id-1 div.sk-parallel-item:only-child::after {width: 0;}#sk-container-id-1 div.sk-dashed-wrapped {border: 1px dashed gray;margin: 0 0.4em 0.5em 0.4em;box-sizing: border-box;padding-bottom: 0.4em;background-color: white;}#sk-container-id-1 div.sk-label label {font-family: monospace;font-weight: bold;display: inline-block;line-height: 1.2em;}#sk-container-id-1 div.sk-label-container {text-align: center;}#sk-container-id-1 div.sk-container {/* jupyter's `normalize.less` sets `[hidden] { display: none; }` but bootstrap.min.css set `[hidden] { display: none !important; }` so we also need the `!important` here to be able to override the default hidden behavior on the sphinx rendered scikit-learn.org. See: https://github.com/scikit-learn/scikit-learn/issues/21755 */display: inline-block !important;position: relative;}#sk-container-id-1 div.sk-text-repr-fallback {display: none;}</style><div id=\"sk-container-id-1\" class=\"sk-top-container\"><div class=\"sk-text-repr-fallback\"><pre>MultinomialNB()</pre><b>In a Jupyter environment, please rerun this cell to show the HTML representation or trust the notebook. <br />On GitHub, the HTML representation is unable to render, please try loading this page with nbviewer.org.</b></div><div class=\"sk-container\" hidden><div class=\"sk-item\"><div class=\"sk-estimator sk-toggleable\"><input class=\"sk-toggleable__control sk-hidden--visually\" id=\"sk-estimator-id-1\" type=\"checkbox\" checked><label for=\"sk-estimator-id-1\" class=\"sk-toggleable__label sk-toggleable__label-arrow\">MultinomialNB</label><div class=\"sk-toggleable__content\"><pre>MultinomialNB()</pre></div></div></div></div></div>"
            ]
          },
          "metadata": {},
          "execution_count": 4
        }
      ]
    },
    {
      "cell_type": "code",
      "source": [
        "# Step 5: Calculate the training accuracy\n",
        "train_predictions = model.predict(X_train)\n",
        "train_accuracy = accuracy_score(y_train, train_predictions)"
      ],
      "metadata": {
        "execution": {
          "iopub.status.busy": "2023-05-15T08:57:54.405014Z",
          "iopub.status.idle": "2023-05-15T08:57:54.405507Z",
          "shell.execute_reply.started": "2023-05-15T08:57:54.405285Z",
          "shell.execute_reply": "2023-05-15T08:57:54.405305Z"
        },
        "trusted": true,
        "id": "gxwX5ByhpLvF"
      },
      "execution_count": 5,
      "outputs": []
    },
    {
      "cell_type": "code",
      "source": [
        "# Step 6: Evaluate the performance of the classifier on test data\n",
        "predictions = model.predict(X_test)\n",
        "test_accuracy = accuracy_score(y_test, predictions)"
      ],
      "metadata": {
        "execution": {
          "iopub.status.busy": "2023-05-15T08:57:54.407254Z",
          "iopub.status.idle": "2023-05-15T08:57:54.407678Z",
          "shell.execute_reply.started": "2023-05-15T08:57:54.407481Z",
          "shell.execute_reply": "2023-05-15T08:57:54.407499Z"
        },
        "trusted": true,
        "id": "XNXOOK_mpLvF"
      },
      "execution_count": 6,
      "outputs": []
    },
    {
      "cell_type": "code",
      "source": [
        "# Step 7:Print the training and test accuracies of the classifier\n",
        "print(\"Training accuracy:\", train_accuracy)\n",
        "print(\"Test accuracy:\", test_accuracy)"
      ],
      "metadata": {
        "execution": {
          "iopub.status.busy": "2023-05-15T08:57:54.408808Z",
          "iopub.status.idle": "2023-05-15T08:57:54.409172Z",
          "shell.execute_reply.started": "2023-05-15T08:57:54.408995Z",
          "shell.execute_reply": "2023-05-15T08:57:54.409011Z"
        },
        "trusted": true,
        "colab": {
          "base_uri": "https://localhost:8080/"
        },
        "id": "lwSxWc8MpLvG",
        "outputId": "dba536a7-158b-4d64-a3ef-f6e87f576727"
      },
      "execution_count": 7,
      "outputs": [
        {
          "output_type": "stream",
          "name": "stdout",
          "text": [
            "Training accuracy: 0.9245182959165635\n",
            "Test accuracy: 0.7728359001593202\n"
          ]
        }
      ]
    },
    {
      "cell_type": "markdown",
      "source": [
        "# **part 2**"
      ],
      "metadata": {
        "id": "7FEc_FktpLvG"
      }
    },
    {
      "cell_type": "code",
      "source": [
        "from sklearn.model_selection import GridSearchCV\n",
        "# Hyperparameter tuning using GridSearchCV\n",
        "param_grid = {'alpha': [0.1, 1.0, 10.0]}\n",
        "grid_search = GridSearchCV(model, param_grid=param_grid, cv=5)\n",
        "grid_search.fit(X_train, y_train)\n",
        "print(\"Best hyperparameters is:\", grid_search.best_params_)\n",
        "print(\"Best cross-validation score: {:.3f}%\".format(grid_search.best_score_ * 100))"
      ],
      "metadata": {
        "execution": {
          "iopub.status.busy": "2023-05-15T08:57:54.410934Z",
          "iopub.status.idle": "2023-05-15T08:57:54.411305Z",
          "shell.execute_reply.started": "2023-05-15T08:57:54.411124Z",
          "shell.execute_reply": "2023-05-15T08:57:54.411141Z"
        },
        "trusted": true,
        "colab": {
          "base_uri": "https://localhost:8080/"
        },
        "id": "c2yaKij2pLvG",
        "outputId": "aa71169a-5e8c-498b-ae2e-b8974458371c"
      },
      "execution_count": 8,
      "outputs": [
        {
          "output_type": "stream",
          "name": "stdout",
          "text": [
            "Best hyperparameters is: {'alpha': 0.1}\n",
            "Best cross-validation score: 87.538%\n"
          ]
        }
      ]
    },
    {
      "cell_type": "code",
      "source": [
        "# Evaluate the model with the best hyperparameters on the testing set\n",
        "best_model = grid_search.best_estimator_\n",
        "y_test_pred = best_model.predict(X_test)\n",
        "test_acc = accuracy_score(y_test, y_test_pred)\n",
        "print(\"Testing accuracy with best hyperparameters is: {:.3f}%\".format(test_acc * 100))"
      ],
      "metadata": {
        "execution": {
          "iopub.status.busy": "2023-05-15T08:57:54.412403Z",
          "iopub.status.idle": "2023-05-15T08:57:54.412822Z",
          "shell.execute_reply.started": "2023-05-15T08:57:54.412637Z",
          "shell.execute_reply": "2023-05-15T08:57:54.412655Z"
        },
        "trusted": true,
        "colab": {
          "base_uri": "https://localhost:8080/"
        },
        "id": "1TNkB069pLvG",
        "outputId": "897da575-8bfc-4957-aec7-c06881cb91fe"
      },
      "execution_count": 9,
      "outputs": [
        {
          "output_type": "stream",
          "name": "stdout",
          "text": [
            "Testing accuracy with best hyperparameters is: 80.616%\n"
          ]
        }
      ]
    },
    {
      "cell_type": "markdown",
      "source": [
        "**3.\tDoes the model improve with hyperparameters tuning?**\n",
        "yes it is improve with hyperparameters tuning.By tuning the alpha parameter, we can make a better test accuracy .\n"
      ],
      "metadata": {
        "id": "JLdr3PNDYdf5"
      }
    }
  ]
}