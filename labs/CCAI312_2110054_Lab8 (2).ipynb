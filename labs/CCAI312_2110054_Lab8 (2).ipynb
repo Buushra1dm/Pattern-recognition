{
  "nbformat": 4,
  "nbformat_minor": 0,
  "metadata": {
    "colab": {
      "provenance": []
    },
    "kernelspec": {
      "name": "python3",
      "display_name": "Python 3"
    },
    "language_info": {
      "name": "python"
    }
  },
  "cells": [
    {
      "cell_type": "code",
      "source": [
        "import numpy as np\n",
        "import random"
      ],
      "metadata": {
        "id": "Xhxdxc3VXsCq"
      },
      "execution_count": 179,
      "outputs": []
    },
    {
      "cell_type": "code",
      "execution_count": 180,
      "metadata": {
        "id": "lIyi4N56HxRV"
      },
      "outputs": [],
      "source": [
        "m = 100\n",
        "X = 2 * np.random.rand(100, 1)\n",
        "y = 4 + 3 * X + np.random.randn(100, 1)\n",
        "X_b = np.c_[np.ones((100,1)),X]"
      ]
    },
    {
      "cell_type": "markdown",
      "source": [
        "try mini bach Size to 20"
      ],
      "metadata": {
        "id": "qBkpyA0wh_ZX"
      }
    },
    {
      "cell_type": "code",
      "source": [
        "n_epochs = 50\n",
        "mini_Size=20\n",
        "t0, t1 = 5, 50 # learning schedule hyperparameters\n",
        "def learning_schedule(t):\n",
        "    return t0 / (t + t1)\n",
        "theta = np.random.randn(2,1) # random initialization\n",
        "t=0\n",
        "for epoch in range(n_epochs):\n",
        "   for i in range(0,m,mini_Size):\n",
        "      t+=1\n",
        "      random_index = np.random.randint(m)\n",
        "      xi = X_b[random_index:random_index+mini_Size]\n",
        "      yi = y[random_index:random_index+mini_Size]\n",
        "      gradients = 2 * xi.T.dot(xi.dot(theta) - yi)\n",
        "      eta = learning_schedule(t)\n",
        "      theta = theta - eta * gradients"
      ],
      "metadata": {
        "id": "7UFoqcgWe0SI"
      },
      "execution_count": 181,
      "outputs": []
    },
    {
      "cell_type": "code",
      "source": [
        "theta"
      ],
      "metadata": {
        "colab": {
          "base_uri": "https://localhost:8080/"
        },
        "id": "DGrlApDLfBRq",
        "outputId": "63a7dae2-cd85-4e2f-d612-4f1e135e40c0"
      },
      "execution_count": 182,
      "outputs": [
        {
          "output_type": "execute_result",
          "data": {
            "text/plain": [
              "array([[ 6.67835808e+49],\n",
              "       [-6.13189161e+49]])"
            ]
          },
          "metadata": {},
          "execution_count": 182
        }
      ]
    },
    {
      "cell_type": "markdown",
      "source": [
        "try mini bach Size to 5"
      ],
      "metadata": {
        "id": "CFDUpJuZoOTB"
      }
    },
    {
      "cell_type": "code",
      "source": [
        "n_epochs = 50\n",
        "mini_Size=5\n",
        "t0, t1 = 5, 50 # learning schedule hyperparameters\n",
        "def learning_schedule(t):\n",
        "    return t0 / (t + t1)\n",
        "theta = np.random.randn(2,1) # random initialization\n",
        "t=0\n",
        "for epoch in range(n_epochs):\n",
        "   for i in range(0,m,mini_Size):\n",
        "      t+=1\n",
        "      random_index = np.random.randint(m)\n",
        "      xi = X_b[random_index:random_index+mini_Size]\n",
        "      yi = y[random_index:random_index+mini_Size]\n",
        "      gradients = 2 * xi.T.dot(xi.dot(theta) - yi)\n",
        "      eta = learning_schedule(t)\n",
        "      theta = theta - eta * gradients"
      ],
      "metadata": {
        "id": "AUMkoQPZheBa"
      },
      "execution_count": 183,
      "outputs": []
    },
    {
      "cell_type": "code",
      "source": [
        "theta"
      ],
      "metadata": {
        "colab": {
          "base_uri": "https://localhost:8080/"
        },
        "id": "zglT7mxiiTrZ",
        "outputId": "4c2345c3-2dee-446d-e7b0-248250ec3eb3"
      },
      "execution_count": 184,
      "outputs": [
        {
          "output_type": "execute_result",
          "data": {
            "text/plain": [
              "array([[3.63227187],\n",
              "       [3.22273169]])"
            ]
          },
          "metadata": {},
          "execution_count": 184
        }
      ]
    },
    {
      "cell_type": "markdown",
      "source": [
        "try mini bach Size to 70"
      ],
      "metadata": {
        "id": "AtACNmXwoRNV"
      }
    },
    {
      "cell_type": "code",
      "source": [
        "n_epochs = 50\n",
        "mini_Size=70\n",
        "t0, t1 = 5, 50 # learning schedule hyperparameters\n",
        "def learning_schedule(t):\n",
        "    return t0 / (t + t1)\n",
        "theta = np.random.randn(2,1) # random initialization\n",
        "t=0\n",
        "for epoch in range(n_epochs):\n",
        "   for i in range(0,m,mini_Size):\n",
        "      t+=1\n",
        "      random_index = np.random.randint(m)\n",
        "      xi = X_b[random_index:random_index+mini_Size]\n",
        "      yi = y[random_index:random_index+mini_Size]\n",
        "      gradients = 2 * xi.T.dot(xi.dot(theta) - yi)\n",
        "      eta = learning_schedule(t)\n",
        "      theta = theta - eta * gradients"
      ],
      "metadata": {
        "id": "vyL5DnlSiUUT"
      },
      "execution_count": 185,
      "outputs": []
    },
    {
      "cell_type": "code",
      "source": [
        "theta"
      ],
      "metadata": {
        "colab": {
          "base_uri": "https://localhost:8080/"
        },
        "id": "F9_2-AbtiaXv",
        "outputId": "93a0efb2-c0e8-474d-8ce2-b9cef77a56af"
      },
      "execution_count": 186,
      "outputs": [
        {
          "output_type": "execute_result",
          "data": {
            "text/plain": [
              "array([[-3.92934773e+80],\n",
              "       [-4.64455688e+80]])"
            ]
          },
          "metadata": {},
          "execution_count": 186
        }
      ]
    },
    {
      "cell_type": "markdown",
      "source": [
        "try mini bach Size to 100"
      ],
      "metadata": {
        "id": "WTvw9iX0oTOy"
      }
    },
    {
      "cell_type": "code",
      "source": [
        "n_epochs = 50\n",
        "mini_Size=100\n",
        "t0, t1 = 5, 50 # learning schedule hyperparameters\n",
        "def learning_schedule(t):\n",
        "    return t0 / (t + t1)\n",
        "theta = np.random.randn(2,1) # random initialization\n",
        "t=0\n",
        "for epoch in range(n_epochs):\n",
        "   for i in range(0,m,mini_Size):\n",
        "      t+=1\n",
        "      random_index = np.random.randint(m)\n",
        "      xi = X_b[random_index:random_index+mini_Size]\n",
        "      yi = y[random_index:random_index+mini_Size]\n",
        "      gradients = 2 * xi.T.dot(xi.dot(theta) - yi)\n",
        "      eta = learning_schedule(t)\n",
        "      theta = theta - eta * gradients"
      ],
      "metadata": {
        "id": "_T37jOHaicRm"
      },
      "execution_count": 187,
      "outputs": []
    },
    {
      "cell_type": "code",
      "source": [
        "theta"
      ],
      "metadata": {
        "colab": {
          "base_uri": "https://localhost:8080/"
        },
        "id": "YN42SEbaidJx",
        "outputId": "b68cf2ae-186a-40b2-9b0a-0b2e359cbcdd"
      },
      "execution_count": 188,
      "outputs": [
        {
          "output_type": "execute_result",
          "data": {
            "text/plain": [
              "array([[-1.84568734e+42],\n",
              "       [-1.89357653e+42]])"
            ]
          },
          "metadata": {},
          "execution_count": 188
        }
      ]
    },
    {
      "cell_type": "markdown",
      "source": [
        "try mini bach Size to 80"
      ],
      "metadata": {
        "id": "cFYNjVyvpQVx"
      }
    },
    {
      "cell_type": "code",
      "source": [
        "n_epochs = 50\n",
        "mini_Size=80\n",
        "t0, t1 = 5, 50 # learning schedule hyperparameters\n",
        "def learning_schedule(t):\n",
        "    return t0 / (t + t1)\n",
        "theta = np.random.randn(2,1) # random initialization\n",
        "t=0\n",
        "for epoch in range(n_epochs):\n",
        "   for i in range(0,m,mini_Size):\n",
        "      t+=1\n",
        "      random_index = np.random.randint(m)\n",
        "      xi = X_b[random_index:random_index+mini_Size]\n",
        "      yi = y[random_index:random_index+mini_Size]\n",
        "      gradients = 2 * xi.T.dot(xi.dot(theta) - yi)\n",
        "      eta = learning_schedule(t)\n",
        "      theta = theta - eta * gradients"
      ],
      "metadata": {
        "id": "uGOB-jxdpX71"
      },
      "execution_count": 189,
      "outputs": []
    },
    {
      "cell_type": "code",
      "source": [
        "theta"
      ],
      "metadata": {
        "colab": {
          "base_uri": "https://localhost:8080/"
        },
        "id": "BLuOwmOtpayy",
        "outputId": "feaf5ba0-0292-4aa6-9e3d-c9a28bc85a1d"
      },
      "execution_count": 190,
      "outputs": [
        {
          "output_type": "execute_result",
          "data": {
            "text/plain": [
              "array([[5.37167663e+85],\n",
              "       [5.99408371e+85]])"
            ]
          },
          "metadata": {},
          "execution_count": 190
        }
      ]
    }
  ]
}